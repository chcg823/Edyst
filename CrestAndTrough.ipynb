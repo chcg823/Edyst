{
 "cells": [
  {
   "cell_type": "code",
   "execution_count": 11,
   "metadata": {},
   "outputs": [],
   "source": [
    "# Defining funtion to find max crest [value,index]\n",
    "def maxCrest(arr):\n",
    "    crest = [0,0] # seting default to [0,0]\n",
    "    l = len(arr)\n",
    "    i = 1\n",
    "    while i < l-1:\n",
    "        # using variable for easier understanding\n",
    "        right = arr[i-1]\n",
    "        current = arr[i]\n",
    "        left = arr[i+1]\n",
    "        \n",
    "        if current > left and right < current:\n",
    "            if left>=right and crest[0]<=current-right:\n",
    "                crest[0] = current-right\n",
    "                crest[1] = i\n",
    "                \n",
    "            if right>left and crest[0]<=current-left:\n",
    "                crest[0] = current-left\n",
    "                crest[1] = i\n",
    "        i+=1\n",
    "    return crest"
   ]
  },
  {
   "cell_type": "code",
   "execution_count": 12,
   "metadata": {},
   "outputs": [],
   "source": [
    "# Defining function to find min crest [value,index]\n",
    "def minCrest(arr):\n",
    "    crest = [max(arr),0]\n",
    "    l = len(arr)\n",
    "    i = l-2\n",
    "    while i > 0:\n",
    "        # using variables for easier understanding\n",
    "        right = arr[i-1]\n",
    "        current = arr[i]\n",
    "        left = arr[i+1]\n",
    "        \n",
    "        if current>left and right<current:\n",
    "            if left>=right and crest[0]>=current-left:\n",
    "                crest[0] = current-left\n",
    "                crest[1] = i\n",
    "            if right>left and crest[0]>=current-right:\n",
    "                crest[0] = current-right\n",
    "                crest[1] = i\n",
    "        i-=1\n",
    "    return crest"
   ]
  },
  {
   "cell_type": "code",
   "execution_count": 13,
   "metadata": {},
   "outputs": [],
   "source": [
    "# Defining function to find max trough [value,index]\n",
    "def maxTrough(arr):\n",
    "    trough = [0,0]\n",
    "    l = len(arr)\n",
    "    i = 1\n",
    "    while i < l-1:\n",
    "        # using variabes for easier understanding\n",
    "        left = arr[i-1]\n",
    "        current = arr[i]\n",
    "        right = arr[i+1]\n",
    "        if left>current and current<right:\n",
    "            if left>=right and trough[0]<=left-current:\n",
    "                trough[0] = left-current\n",
    "                trough[1] = i\n",
    "            if right>left and trough[0]<=right-current:\n",
    "                trough[0] = right-current\n",
    "                trough[1] = i\n",
    "        i+=1\n",
    "    return trough"
   ]
  },
  {
   "cell_type": "code",
   "execution_count": 14,
   "metadata": {},
   "outputs": [],
   "source": [
    "# Defining fucntion to find min trough [value,index]\n",
    "def minTrough(arr):\n",
    "    trough = [max(arr),0]\n",
    "    l = len(arr)\n",
    "    i = l - 2\n",
    "    while i > 0:\n",
    "        # using variables for easier understanding\n",
    "        left = arr[i-1]\n",
    "        current = arr[i]\n",
    "        right = arr[i+1]\n",
    "        if left>current and current<right:\n",
    "            if left>=right and trough[0]>=right-current:\n",
    "                trough[0] = right-current\n",
    "                trough[1] = i\n",
    "            if right>left and trough[0]>=left-current:\n",
    "                trough[0] = left-current\n",
    "                trough[1] = i\n",
    "        i-=1\n",
    "    return trough"
   ]
  },
  {
   "cell_type": "code",
   "execution_count": 21,
   "metadata": {},
   "outputs": [
    {
     "name": "stdout",
     "output_type": "stream",
     "text": [
      "1\n",
      "8\n",
      "1 2 3 4 5 6 7 8\n",
      "-1\n"
     ]
    }
   ],
   "source": [
    "T = int(input())\n",
    "while T:\n",
    "    n = int(input())\n",
    "    l = list(map(int, input().split()))\n",
    "    max_c = maxCrest(l)\n",
    "    min_c = minCrest(l)\n",
    "    max_t = maxTrough(l)\n",
    "    min_t = minTrough(l)\n",
    "    if max_c==[0,0] or max_t==[0,0]:\n",
    "        print(-1)\n",
    "    else:\n",
    "        print(\"Max Crest :\",max_c,\"\\nMin Crest :\",min_c,\"\\nMax Trough :\",max_t,\"\\nMin Trough :\",min_t)\n",
    "        print(max(abs(max_c[1]-min_c[1]),abs(max_t[1]-min_t[1])))\n",
    "    T-=1"
   ]
  },
  {
   "cell_type": "code",
   "execution_count": 16,
   "metadata": {},
   "outputs": [
    {
     "data": {
      "text/plain": [
       "[4, 5]"
      ]
     },
     "execution_count": 16,
     "metadata": {},
     "output_type": "execute_result"
    }
   ],
   "source": [
    "maxCrest(l)"
   ]
  },
  {
   "cell_type": "code",
   "execution_count": 17,
   "metadata": {},
   "outputs": [
    {
     "data": {
      "text/plain": [
       "[2, 2]"
      ]
     },
     "execution_count": 17,
     "metadata": {},
     "output_type": "execute_result"
    }
   ],
   "source": [
    "minCrest(l)"
   ]
  },
  {
   "cell_type": "code",
   "execution_count": 18,
   "metadata": {},
   "outputs": [
    {
     "data": {
      "text/plain": [
       "[4, 4]"
      ]
     },
     "execution_count": 18,
     "metadata": {},
     "output_type": "execute_result"
    }
   ],
   "source": [
    "maxTrough(l)"
   ]
  },
  {
   "cell_type": "code",
   "execution_count": 19,
   "metadata": {},
   "outputs": [
    {
     "data": {
      "text/plain": [
       "[2, 4]"
      ]
     },
     "execution_count": 19,
     "metadata": {},
     "output_type": "execute_result"
    }
   ],
   "source": [
    "minTrough(l)"
   ]
  },
  {
   "cell_type": "code",
   "execution_count": null,
   "metadata": {},
   "outputs": [],
   "source": []
  },
  {
   "cell_type": "code",
   "execution_count": null,
   "metadata": {},
   "outputs": [],
   "source": []
  },
  {
   "cell_type": "code",
   "execution_count": null,
   "metadata": {},
   "outputs": [],
   "source": []
  }
 ],
 "metadata": {
  "kernelspec": {
   "display_name": "Python 3",
   "language": "python",
   "name": "python3"
  },
  "language_info": {
   "codemirror_mode": {
    "name": "ipython",
    "version": 3
   },
   "file_extension": ".py",
   "mimetype": "text/x-python",
   "name": "python",
   "nbconvert_exporter": "python",
   "pygments_lexer": "ipython3",
   "version": "3.7.0"
  }
 },
 "nbformat": 4,
 "nbformat_minor": 2
}
